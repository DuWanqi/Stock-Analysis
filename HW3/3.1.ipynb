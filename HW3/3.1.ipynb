{
 "cells": [
  {
   "cell_type": "code",
   "execution_count": 16,
   "metadata": {},
   "outputs": [],
   "source": [
    "import numpy as np # linear algebra\n",
    "import pandas as pd # data processing\n",
    "import matplotlib.pyplot as plt # visualization\n",
    "import seaborn as sns; sns.set() # graphing data\n",
    "\n",
    "import warnings\n",
    "warnings.filterwarnings(\"ignore\")"
   ]
  },
  {
   "cell_type": "code",
   "execution_count": 23,
   "metadata": {},
   "outputs": [
    {
     "data": {
      "text/plain": [
       "<bound method NDFrame.head of        Indexcd       Trddt  Clsindex\n",
       "0            1  2004-01-02  1517.193\n",
       "1            1  2004-01-05  1568.353\n",
       "2            1  2004-01-06  1574.523\n",
       "3            1  2004-01-07  1587.204\n",
       "4            1  2004-01-08  1610.126\n",
       "...        ...         ...       ...\n",
       "67075   399903  2023-12-25  3177.085\n",
       "67076   399903  2023-12-26  3157.914\n",
       "67077   399903  2023-12-27  3170.446\n",
       "67078   399903  2023-12-28  3250.629\n",
       "67079   399903  2023-12-29  3263.052\n",
       "\n",
       "[67080 rows x 3 columns]>"
      ]
     },
     "execution_count": 23,
     "metadata": {},
     "output_type": "execute_result"
    }
   ],
   "source": [
    "CSI_df = pd.read_csv('d:\\homework\\FIN3080\\HW3\\TRD_Index.csv')\n",
    "CSI_df.head"
   ]
  },
  {
   "cell_type": "code",
   "execution_count": null,
   "metadata": {},
   "outputs": [],
   "source": [
    "def filter_rows(group):\n",
    "    return group[(group['Markettype'] == 4) | (group['Markettype'] == 1) | (group['Markettype'] == 64)]"
   ]
  },
  {
   "cell_type": "code",
   "execution_count": 24,
   "metadata": {},
   "outputs": [],
   "source": [
    "CSI_df = CSI_df[CSI_df[\"Indexcd\"] == 300]\n"
   ]
  },
  {
   "cell_type": "code",
   "execution_count": 25,
   "metadata": {},
   "outputs": [
    {
     "data": {
      "text/html": [
       "<div>\n",
       "<style scoped>\n",
       "    .dataframe tbody tr th:only-of-type {\n",
       "        vertical-align: middle;\n",
       "    }\n",
       "\n",
       "    .dataframe tbody tr th {\n",
       "        vertical-align: top;\n",
       "    }\n",
       "\n",
       "    .dataframe thead th {\n",
       "        text-align: right;\n",
       "    }\n",
       "</style>\n",
       "<table border=\"1\" class=\"dataframe\">\n",
       "  <thead>\n",
       "    <tr style=\"text-align: right;\">\n",
       "      <th></th>\n",
       "      <th>Indexcd</th>\n",
       "      <th>Trddt</th>\n",
       "      <th>Clsindex</th>\n",
       "    </tr>\n",
       "  </thead>\n",
       "  <tbody>\n",
       "    <tr>\n",
       "      <th>23242</th>\n",
       "      <td>300</td>\n",
       "      <td>2005-04-08</td>\n",
       "      <td>1003.445</td>\n",
       "    </tr>\n",
       "    <tr>\n",
       "      <th>23243</th>\n",
       "      <td>300</td>\n",
       "      <td>2005-04-11</td>\n",
       "      <td>995.421</td>\n",
       "    </tr>\n",
       "    <tr>\n",
       "      <th>23244</th>\n",
       "      <td>300</td>\n",
       "      <td>2005-04-12</td>\n",
       "      <td>978.697</td>\n",
       "    </tr>\n",
       "    <tr>\n",
       "      <th>23245</th>\n",
       "      <td>300</td>\n",
       "      <td>2005-04-13</td>\n",
       "      <td>1000.900</td>\n",
       "    </tr>\n",
       "    <tr>\n",
       "      <th>23246</th>\n",
       "      <td>300</td>\n",
       "      <td>2005-04-14</td>\n",
       "      <td>986.975</td>\n",
       "    </tr>\n",
       "    <tr>\n",
       "      <th>...</th>\n",
       "      <td>...</td>\n",
       "      <td>...</td>\n",
       "      <td>...</td>\n",
       "    </tr>\n",
       "    <tr>\n",
       "      <th>27792</th>\n",
       "      <td>300</td>\n",
       "      <td>2023-12-25</td>\n",
       "      <td>3347.451</td>\n",
       "    </tr>\n",
       "    <tr>\n",
       "      <th>27793</th>\n",
       "      <td>300</td>\n",
       "      <td>2023-12-26</td>\n",
       "      <td>3324.790</td>\n",
       "    </tr>\n",
       "    <tr>\n",
       "      <th>27794</th>\n",
       "      <td>300</td>\n",
       "      <td>2023-12-27</td>\n",
       "      <td>3336.357</td>\n",
       "    </tr>\n",
       "    <tr>\n",
       "      <th>27795</th>\n",
       "      <td>300</td>\n",
       "      <td>2023-12-28</td>\n",
       "      <td>3414.540</td>\n",
       "    </tr>\n",
       "    <tr>\n",
       "      <th>27796</th>\n",
       "      <td>300</td>\n",
       "      <td>2023-12-29</td>\n",
       "      <td>3431.110</td>\n",
       "    </tr>\n",
       "  </tbody>\n",
       "</table>\n",
       "<p>4555 rows × 3 columns</p>\n",
       "</div>"
      ],
      "text/plain": [
       "       Indexcd       Trddt  Clsindex\n",
       "23242      300  2005-04-08  1003.445\n",
       "23243      300  2005-04-11   995.421\n",
       "23244      300  2005-04-12   978.697\n",
       "23245      300  2005-04-13  1000.900\n",
       "23246      300  2005-04-14   986.975\n",
       "...        ...         ...       ...\n",
       "27792      300  2023-12-25  3347.451\n",
       "27793      300  2023-12-26  3324.790\n",
       "27794      300  2023-12-27  3336.357\n",
       "27795      300  2023-12-28  3414.540\n",
       "27796      300  2023-12-29  3431.110\n",
       "\n",
       "[4555 rows x 3 columns]"
      ]
     },
     "execution_count": 25,
     "metadata": {},
     "output_type": "execute_result"
    }
   ],
   "source": [
    "CSI_df"
   ]
  },
  {
   "cell_type": "code",
   "execution_count": 26,
   "metadata": {},
   "outputs": [],
   "source": [
    "# 将日期列转换为日期时间类型，并设置为索引\n",
    "CSI_df['Trddt'] = pd.to_datetime(CSI_df['Trddt'])\n",
    "CSI_df.set_index('Trddt', inplace=True)\n",
    "\n",
    "# 将每日收盘指数数据按月重新采样，并取每月最后一天的收盘指数\n",
    "monthly_closing_prices = CSI_df['Clsindex'].resample('M').last()\n",
    "\n",
    "# 创建新的DataFrame存储每月的收盘指数\n",
    "monthly_df = pd.DataFrame({'Clsindex_M': monthly_closing_prices})\n",
    "\n"
   ]
  },
  {
   "cell_type": "code",
   "execution_count": 27,
   "metadata": {},
   "outputs": [
    {
     "data": {
      "text/html": [
       "<div>\n",
       "<style scoped>\n",
       "    .dataframe tbody tr th:only-of-type {\n",
       "        vertical-align: middle;\n",
       "    }\n",
       "\n",
       "    .dataframe tbody tr th {\n",
       "        vertical-align: top;\n",
       "    }\n",
       "\n",
       "    .dataframe thead th {\n",
       "        text-align: right;\n",
       "    }\n",
       "</style>\n",
       "<table border=\"1\" class=\"dataframe\">\n",
       "  <thead>\n",
       "    <tr style=\"text-align: right;\">\n",
       "      <th></th>\n",
       "      <th>Clsindex_M</th>\n",
       "    </tr>\n",
       "    <tr>\n",
       "      <th>Trddt</th>\n",
       "      <th></th>\n",
       "    </tr>\n",
       "  </thead>\n",
       "  <tbody>\n",
       "    <tr>\n",
       "      <th>2005-04-30</th>\n",
       "      <td>932.395</td>\n",
       "    </tr>\n",
       "    <tr>\n",
       "      <th>2005-05-31</th>\n",
       "      <td>855.946</td>\n",
       "    </tr>\n",
       "    <tr>\n",
       "      <th>2005-06-30</th>\n",
       "      <td>878.686</td>\n",
       "    </tr>\n",
       "    <tr>\n",
       "      <th>2005-07-31</th>\n",
       "      <td>888.164</td>\n",
       "    </tr>\n",
       "    <tr>\n",
       "      <th>2005-08-31</th>\n",
       "      <td>927.916</td>\n",
       "    </tr>\n",
       "    <tr>\n",
       "      <th>...</th>\n",
       "      <td>...</td>\n",
       "    </tr>\n",
       "    <tr>\n",
       "      <th>2023-08-31</th>\n",
       "      <td>3765.268</td>\n",
       "    </tr>\n",
       "    <tr>\n",
       "      <th>2023-09-30</th>\n",
       "      <td>3689.517</td>\n",
       "    </tr>\n",
       "    <tr>\n",
       "      <th>2023-10-31</th>\n",
       "      <td>3572.506</td>\n",
       "    </tr>\n",
       "    <tr>\n",
       "      <th>2023-11-30</th>\n",
       "      <td>3496.203</td>\n",
       "    </tr>\n",
       "    <tr>\n",
       "      <th>2023-12-31</th>\n",
       "      <td>3431.110</td>\n",
       "    </tr>\n",
       "  </tbody>\n",
       "</table>\n",
       "<p>225 rows × 1 columns</p>\n",
       "</div>"
      ],
      "text/plain": [
       "            Clsindex_M\n",
       "Trddt                 \n",
       "2005-04-30     932.395\n",
       "2005-05-31     855.946\n",
       "2005-06-30     878.686\n",
       "2005-07-31     888.164\n",
       "2005-08-31     927.916\n",
       "...                ...\n",
       "2023-08-31    3765.268\n",
       "2023-09-30    3689.517\n",
       "2023-10-31    3572.506\n",
       "2023-11-30    3496.203\n",
       "2023-12-31    3431.110\n",
       "\n",
       "[225 rows x 1 columns]"
      ]
     },
     "execution_count": 27,
     "metadata": {},
     "output_type": "execute_result"
    }
   ],
   "source": [
    "monthly_df"
   ]
  },
  {
   "cell_type": "code",
   "execution_count": 28,
   "metadata": {},
   "outputs": [],
   "source": [
    "# 计算每月回报率\n",
    "monthly_df['Return'] = monthly_df['Clsindex_M'].pct_change()"
   ]
  },
  {
   "cell_type": "code",
   "execution_count": 29,
   "metadata": {},
   "outputs": [
    {
     "data": {
      "text/html": [
       "<div>\n",
       "<style scoped>\n",
       "    .dataframe tbody tr th:only-of-type {\n",
       "        vertical-align: middle;\n",
       "    }\n",
       "\n",
       "    .dataframe tbody tr th {\n",
       "        vertical-align: top;\n",
       "    }\n",
       "\n",
       "    .dataframe thead th {\n",
       "        text-align: right;\n",
       "    }\n",
       "</style>\n",
       "<table border=\"1\" class=\"dataframe\">\n",
       "  <thead>\n",
       "    <tr style=\"text-align: right;\">\n",
       "      <th></th>\n",
       "      <th>Clsindex_M</th>\n",
       "      <th>Return</th>\n",
       "    </tr>\n",
       "    <tr>\n",
       "      <th>Trddt</th>\n",
       "      <th></th>\n",
       "      <th></th>\n",
       "    </tr>\n",
       "  </thead>\n",
       "  <tbody>\n",
       "    <tr>\n",
       "      <th>2005-04-30</th>\n",
       "      <td>932.395</td>\n",
       "      <td>NaN</td>\n",
       "    </tr>\n",
       "    <tr>\n",
       "      <th>2005-05-31</th>\n",
       "      <td>855.946</td>\n",
       "      <td>-0.081992</td>\n",
       "    </tr>\n",
       "    <tr>\n",
       "      <th>2005-06-30</th>\n",
       "      <td>878.686</td>\n",
       "      <td>0.026567</td>\n",
       "    </tr>\n",
       "    <tr>\n",
       "      <th>2005-07-31</th>\n",
       "      <td>888.164</td>\n",
       "      <td>0.010787</td>\n",
       "    </tr>\n",
       "    <tr>\n",
       "      <th>2005-08-31</th>\n",
       "      <td>927.916</td>\n",
       "      <td>0.044757</td>\n",
       "    </tr>\n",
       "    <tr>\n",
       "      <th>2005-09-30</th>\n",
       "      <td>917.390</td>\n",
       "      <td>-0.011344</td>\n",
       "    </tr>\n",
       "    <tr>\n",
       "      <th>2005-10-31</th>\n",
       "      <td>876.282</td>\n",
       "      <td>-0.044810</td>\n",
       "    </tr>\n",
       "    <tr>\n",
       "      <th>2005-11-30</th>\n",
       "      <td>873.825</td>\n",
       "      <td>-0.002804</td>\n",
       "    </tr>\n",
       "    <tr>\n",
       "      <th>2005-12-31</th>\n",
       "      <td>923.451</td>\n",
       "      <td>0.056792</td>\n",
       "    </tr>\n",
       "    <tr>\n",
       "      <th>2006-01-31</th>\n",
       "      <td>1009.597</td>\n",
       "      <td>0.093287</td>\n",
       "    </tr>\n",
       "  </tbody>\n",
       "</table>\n",
       "</div>"
      ],
      "text/plain": [
       "            Clsindex_M    Return\n",
       "Trddt                           \n",
       "2005-04-30     932.395       NaN\n",
       "2005-05-31     855.946 -0.081992\n",
       "2005-06-30     878.686  0.026567\n",
       "2005-07-31     888.164  0.010787\n",
       "2005-08-31     927.916  0.044757\n",
       "2005-09-30     917.390 -0.011344\n",
       "2005-10-31     876.282 -0.044810\n",
       "2005-11-30     873.825 -0.002804\n",
       "2005-12-31     923.451  0.056792\n",
       "2006-01-31    1009.597  0.093287"
      ]
     },
     "execution_count": 29,
     "metadata": {},
     "output_type": "execute_result"
    }
   ],
   "source": [
    "monthly_df.head(10)"
   ]
  },
  {
   "cell_type": "code",
   "execution_count": 30,
   "metadata": {},
   "outputs": [
    {
     "name": "stdout",
     "output_type": "stream",
     "text": [
      "Mean Return: 0.009086453303326808\n",
      "Standard Deviation of Return: 0.08071168146910553\n",
      "Skewness of Return: 0.015217498215472374\n",
      "Kurtosis of Return: 1.4498566009018719\n"
     ]
    }
   ],
   "source": [
    "from scipy.stats import skew, kurtosis\n",
    "\n",
    "mean_return = monthly_df['Return'].mean()\n",
    "std_return = monthly_df['Return'].std()\n",
    "skewness = skew(monthly_df['Return'].dropna())  # 需要去除空值\n",
    "kurt = kurtosis(monthly_df['Return'].dropna())  # 需要去除空值\n",
    "\n",
    "# 打印摘要统计信息\n",
    "print(\"Mean Return:\", mean_return)\n",
    "print(\"Standard Deviation of Return:\", std_return)\n",
    "print(\"Skewness of Return:\", skewness)\n",
    "print(\"Kurtosis of Return:\", kurt)"
   ]
  },
  {
   "cell_type": "code",
   "execution_count": 31,
   "metadata": {},
   "outputs": [
    {
     "data": {
      "image/png": "[encoded data removed]",
      "text/plain": [
       "<Figure size 640x480 with 1 Axes>"
      ]
     },
     "metadata": {},
     "output_type": "display_data"
    }
   ],
   "source": [
    "import matplotlib.pyplot as plt\n",
    "\n",
    "# 假设你已经有了monthly_df DataFrame，包含了每月的回报率数据\n",
    "\n",
    "# 创建直方图\n",
    "plt.hist(monthly_df['Return'].dropna(), bins=100, range=(-1, 1), edgecolor='black')  # 需要去除空值，设置30个柱子，黑色边界线\n",
    "plt.title('Histogram of Monthly Returns')\n",
    "plt.xlabel('Return')\n",
    "plt.ylabel('Frequency')\n",
    "plt.grid(True)\n",
    "plt.show()\n"
   ]
  },
  {
   "cell_type": "code",
   "execution_count": 32,
   "metadata": {},
   "outputs": [
    {
     "name": "stdout",
     "output_type": "stream",
     "text": [
      "Shapiro-Wilk Test:\n",
      "Statistic: 0.97113777112573, p-value: 0.00015470831822095066\n"
     ]
    }
   ],
   "source": [
    "from scipy.stats import shapiro\n",
    "\n",
    "# 进行Shapiro-Wilk检验\n",
    "stat, p = shapiro(monthly_df['Return'].dropna())  # 需要去除空值\n",
    "\n",
    "# 输出检验结果\n",
    "print('Shapiro-Wilk Test:')\n",
    "print(f'Statistic: {stat}, p-value: {p}')"
   ]
  },
  {
   "cell_type": "code",
   "execution_count": 9,
   "metadata": {},
   "outputs": [
    {
     "name": "stdout",
     "output_type": "stream",
     "text": [
      "239\n"
     ]
    }
   ],
   "source": [
    "print(monthly_df['Return'].count())"
   ]
  }
 ],
 "metadata": {
  "kernelspec": {
   "display_name": "Python 3",
   "language": "python",
   "name": "python3"
  },
  "language_info": {
   "codemirror_mode": {
    "name": "ipython",
    "version": 3
   },
   "file_extension": ".py",
   "mimetype": "text/x-python",
   "name": "python",
   "nbconvert_exporter": "python",
   "pygments_lexer": "ipython3",
   "version": "3.10.11"
  }
 },
 "nbformat": 4,
 "nbformat_minor": 2
}
